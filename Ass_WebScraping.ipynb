{
 "cells": [
  {
   "cell_type": "markdown",
   "metadata": {},
   "source": [
    "<h2 align=\"center\">TGC BLOGS WEB SCRAPING</h2>\n",
    "\n",
    "* Storing Blogs Title in a single text file\n",
    "* Storing Blogs URL in a single text file"
   ]
  },
  {
   "cell_type": "code",
   "execution_count": null,
   "metadata": {},
   "outputs": [],
   "source": [
    "import requests\n",
    "from bs4 import BeautifulSoup\n",
    "url = \"https://www.tgcindia.com/blog/\"\n",
    "res = requests.get(url)\n",
    "soup = BeautifulSoup(res.text,'html.parser')\n",
    "links = soup.select('h3')\n",
    "for idx, item in enumerate(links):\n",
    "    title = item.getText()\n",
    "    print(title)\n",
    "    link = links[idx].select('a')\n",
    "    hlink = link[0].get('href',None)\n",
    "    print(hlink,\"\\n\")\n",
    "    ts = title.split(\"\\n\")\n",
    "    hl = hlink.split(\"\\n\")\n",
    "    with open('TGC Blogs Title.text','a') as file:\n",
    "        file.write(\"\\n\")\n",
    "        file.write(f'{idx+1} {str(ts)}')\n",
    "    with open('TGC Blogs URL.text','a') as file2:\n",
    "        file2.write(\"\\n\")\n",
    "        file2.write(f'{idx+1} {str(hl)}')\n",
    "print('\\nCheck out the text file')"
   ]
  },
  {
   "cell_type": "markdown",
   "metadata": {},
   "source": [
    "<h2 align=\"center\">Flipkart</h2>"
   ]
  },
  {
   "cell_type": "code",
   "execution_count": null,
   "metadata": {},
   "outputs": [],
   "source": [
    "import requests\n",
    "from bs4 import BeautifulSoup\n",
    "from tabulate import tabulate\n",
    "import pprint\n",
    "\n",
    "url = \"https://www.flipkart.com/search?q=laptop&otracker=search&otracker1=search&marketplace=FLIPKART&as-show=on&as=off\"\n",
    "res = requests.get(url)\n",
    "soup = BeautifulSoup(res.text, 'html.parser')\n",
    "main = soup.select('._3O0U0u')\n",
    "def flipkart(links):\n",
    "    li = [['Title','Rating','Price']]\n",
    "    for idx, item in enumerate(main):\n",
    "        title = main[idx].select('._3wU53n')\n",
    "        t = title[0].getText()\n",
    "        t = t.split('-')\n",
    "        t = t[0]\n",
    "        price = main[idx].select('._1vC4OE')\n",
    "        p = price[0].getText()\n",
    "        rating = main[idx].select('.hGSR34')\n",
    "        if len(rating):\n",
    "            r = rating[0].getText()\n",
    "            with open(\"Flipkart.text\",'a',encoding='utf-8',newline='') as file:\n",
    "                file.write(\"\\n\")\n",
    "                file.write(f'Model Name: {t}')\n",
    "                file.write(\"\\n\")\n",
    "                file.write(f'Price: {p}')\n",
    "                file.write(\"\\n\")\n",
    "                file.write(f'Rating: {r}')\n",
    "                file.write(\"\\n\")\n",
    "            li.append([t,r,p])\n",
    "    return li\n",
    "\n",
    "print(tabulate(flipkart(main),tablefmt='fancy_grid')) # grid\n",
    "# pprint.pprint(flipkart(main))\n",
    "print(\"\\nCheck out the file\")"
   ]
  },
  {
   "cell_type": "code",
   "execution_count": null,
   "metadata": {},
   "outputs": [],
   "source": [
    "# import sys\n",
    "# !{sys.executable} -m pip install tabulatel"
   ]
  },
  {
   "cell_type": "markdown",
   "metadata": {},
   "source": [
    "<h2 align=\"center\">NEWS API</h2>"
   ]
  },
  {
   "cell_type": "code",
   "execution_count": null,
   "metadata": {},
   "outputs": [],
   "source": [
    "import urllib.request as urlr\n",
    "import json\n",
    "\n",
    "link = \"http://newsapi.org/v2/top-headlines?country=in&category=entertainment&apiKey=6964ff88692444eaa57bf7da1f69d60f\"\n",
    "raw_data = urlr.urlopen(link)\n",
    "myjson = raw_data.read()\n",
    "data = json.loads(myjson.decode())\n",
    "\n",
    "def news(*args):\n",
    "    for i in range(len(data['articles'])):\n",
    "        title = data['articles'][i]['title']\n",
    "        desc = data['articles'][i]['description']\n",
    "        cont = data['articles'][i]['content']\n",
    "        url = data['articles'][i]['url']\n",
    "        image_url = data['articles'][i]['urlToImage']\n",
    "        for j in range(5):\n",
    "            if j==0:\n",
    "                file1 = open(f'{args[0]}.text', 'a', encoding='utf-8')\n",
    "                if title:\n",
    "                    file1.write(\"\\n\")\n",
    "                    file1.write(f'{i+1} {title}')\n",
    "                    file1.write(\"\\n\")\n",
    "            elif j==1:\n",
    "                file2 = open(f'{args[1]}.text', 'a', encoding='utf-8')\n",
    "                if desc:\n",
    "                    file2.write(\"\\n\")\n",
    "                    file2.write(f'{i+1} {desc}')\n",
    "                    file2.write(\"\\n\")\n",
    "            elif j==2:\n",
    "                file3 = open(f'{args[2]}.text', 'a', encoding='utf-8')\n",
    "                if cont:\n",
    "                    file3.write(\"\\n\")\n",
    "                    file3.write(f'{i+1} {cont}')\n",
    "                    file3.write(\"\\n\")\n",
    "            elif j==3:\n",
    "                file4 = open(f'{args[3]}.text', 'a', encoding='utf-8')\n",
    "                if url:\n",
    "                    file4.write(\"\\n\")\n",
    "                    file4.write(f'{i+1} {url}')\n",
    "                    file4.write(\"\\n\")\n",
    "            else:\n",
    "                file5 = open(f'{args[4]}.text', 'a', encoding='utf-8')\n",
    "                if image_url:\n",
    "                    file5.write(\"\\n\")\n",
    "                    file5.write(f'{i+1} {image_url}')\n",
    "                    file5.write(\"\\n\")\n",
    "            \n",
    "    return 'All files created'\n",
    "print(news('Title','Description','Content','Link','ImageLink'))"
   ]
  }
 ],
 "metadata": {
  "kernelspec": {
   "display_name": "Python 3",
   "language": "python",
   "name": "python3"
  },
  "language_info": {
   "codemirror_mode": {
    "name": "ipython",
    "version": 3
   },
   "file_extension": ".py",
   "mimetype": "text/x-python",
   "name": "python",
   "nbconvert_exporter": "python",
   "pygments_lexer": "ipython3",
   "version": "3.8.3"
  }
 },
 "nbformat": 4,
 "nbformat_minor": 4
}
