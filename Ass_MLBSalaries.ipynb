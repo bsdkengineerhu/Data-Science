{
 "cells": [
  {
   "cell_type": "markdown",
   "metadata": {},
   "source": [
    "<h2 align=\"center\">MLB Salaries</h2>"
   ]
  },
  {
   "cell_type": "markdown",
   "metadata": {},
   "source": [
    " **Queries:**\n",
    " \n",
    " 1. How to find out total no. of records?\n",
    " 2. How to find out total no. of columns?\n",
    " 3. Display all columns names?\n",
    " 4. Show only maximum salary value?\n",
    " 5. Show only minimum salary value?\n",
    " 6. Show Maximum salary complete record?\n",
    " 7. Show Minimum salary complete record?\n",
    " 8. Show all records Team Wise Details?\n",
    " 9. Show all records Year Wise Details?\n",
    " 10. Show all player names which position=Pitcher?\n",
    " 11. How to find out all missing values count in all columns?\n",
    " 12. Show Team wise Salaries total?\n",
    " 13. Count all players Team Wise?\n",
    " 14. Show all unique Team names?\n",
    " 15. Display total no. of unique Teams?\n",
    " 16. How to find out year wise total count?\n",
    " 17. How to find out Team wise total count?\n",
    " 18. How to find out Position wise total count?\n",
    " 19. Show all records for the year 2010 & also count how many records?\n",
    " 20. How to sort records by player in ascending order for the year 2010?\n",
    " 21. How to sort column labels in ascending order for the year 2010?\n",
    " 22. How to find out Top 5 highest paid salary records for the year 2010?\n",
    "     [show only 2 columns:Player name & Salary]\n",
    "     \n",
    "**Dataset:** The dataset is a csv file titled `\"mlbsalaries.csv\"`"
   ]
  },
  {
   "cell_type": "code",
   "execution_count": null,
   "metadata": {},
   "outputs": [],
   "source": [
    "# Basic EDA Tools\n",
    "import numpy as np\n",
    "import pandas as pd"
   ]
  },
  {
   "cell_type": "code",
   "execution_count": null,
   "metadata": {},
   "outputs": [],
   "source": [
    "df = pd.read_csv(\"Dataset/mlbsalaries.csv\")\n",
    "df.head()"
   ]
  },
  {
   "cell_type": "code",
   "execution_count": null,
   "metadata": {},
   "outputs": [],
   "source": [
    "df.info()"
   ]
  },
  {
   "cell_type": "code",
   "execution_count": null,
   "metadata": {},
   "outputs": [],
   "source": [
    "# 1. How to find out total no. of records?\n",
    "df.shape"
   ]
  },
  {
   "cell_type": "code",
   "execution_count": null,
   "metadata": {},
   "outputs": [],
   "source": [
    "# 2. How to find out total no. of columns?\n",
    "len(df.columns)"
   ]
  },
  {
   "cell_type": "code",
   "execution_count": null,
   "metadata": {},
   "outputs": [],
   "source": [
    "# 3. Display all columns names?\n",
    "list(df.columns)"
   ]
  },
  {
   "cell_type": "code",
   "execution_count": null,
   "metadata": {},
   "outputs": [],
   "source": [
    "# 4. Show only maximum salary value?\n",
    "np.max(df.Salary)"
   ]
  },
  {
   "cell_type": "code",
   "execution_count": null,
   "metadata": {},
   "outputs": [],
   "source": [
    "# 5. Show only minimum salary value?\n",
    "np.min(df.Salary)"
   ]
  },
  {
   "cell_type": "code",
   "execution_count": null,
   "metadata": {},
   "outputs": [],
   "source": [
    "# 6. Show Maximum salary complete record?\n",
    "df[df.Salary == np.max(df.Salary)]"
   ]
  },
  {
   "cell_type": "code",
   "execution_count": null,
   "metadata": {},
   "outputs": [],
   "source": [
    "# 7. Show Minimum salary complete record?\n",
    "df[df.Salary == np.min(df.Salary)]"
   ]
  },
  {
   "cell_type": "code",
   "execution_count": null,
   "metadata": {},
   "outputs": [],
   "source": [
    "# 8. Show all records Team Wise Details?\n",
    "df.sort_values(\"Team\")"
   ]
  },
  {
   "cell_type": "code",
   "execution_count": null,
   "metadata": {},
   "outputs": [],
   "source": [
    "# 9. Show all records Year Wise Details?\n",
    "df.sort_values(\"Year\")"
   ]
  },
  {
   "cell_type": "code",
   "execution_count": null,
   "metadata": {},
   "outputs": [],
   "source": [
    "# 10. Show all player names which position=Pitcher?\n",
    "df[df.Position == \"Pitcher\"].Player"
   ]
  },
  {
   "cell_type": "code",
   "execution_count": null,
   "metadata": {},
   "outputs": [],
   "source": [
    "# 11. How to find out all missing values count in all columns?\n",
    "df.isna().sum()"
   ]
  },
  {
   "cell_type": "code",
   "execution_count": null,
   "metadata": {},
   "outputs": [],
   "source": [
    "# 12. Show Team wise Salaries total?\n",
    "df.groupby(\"Team\").sum()['Salary']"
   ]
  },
  {
   "cell_type": "code",
   "execution_count": null,
   "metadata": {},
   "outputs": [],
   "source": [
    "# 13. Count all players Team Wise?\n",
    "df.groupby(\"Team\").count()['Player']"
   ]
  },
  {
   "cell_type": "code",
   "execution_count": null,
   "metadata": {},
   "outputs": [],
   "source": [
    "# 14. Show all unique Team names?\n",
    "list(np.unique(df.Team))"
   ]
  },
  {
   "cell_type": "code",
   "execution_count": null,
   "metadata": {},
   "outputs": [],
   "source": [
    "# 15. Display total no. of unique Teams?\n",
    "len(np.unique(df.Team))"
   ]
  },
  {
   "cell_type": "code",
   "execution_count": null,
   "metadata": {},
   "outputs": [],
   "source": [
    "# 16. How to find out year wise total count?\n",
    "df.Year.value_counts(ascending=True)"
   ]
  },
  {
   "cell_type": "code",
   "execution_count": null,
   "metadata": {},
   "outputs": [],
   "source": [
    "# 17. How to find out Team wise total count?\n",
    "df.Team.value_counts(ascending=True)"
   ]
  },
  {
   "cell_type": "code",
   "execution_count": null,
   "metadata": {},
   "outputs": [],
   "source": [
    "# 18. How to find out Position wise total count?\n",
    "df.Position.value_counts(ascending=True)"
   ]
  },
  {
   "cell_type": "code",
   "execution_count": null,
   "metadata": {},
   "outputs": [],
   "source": [
    "# 19. Show all records for the year 2010 & also count how many records?\n",
    "df[df.Year==2010]"
   ]
  },
  {
   "cell_type": "code",
   "execution_count": null,
   "metadata": {},
   "outputs": [],
   "source": [
    "# 20. How to sort records by player in ascending order for the year 2010?\n",
    "df[df.Year==2010].sort_values(\"Player\", ascending=True)"
   ]
  },
  {
   "cell_type": "code",
   "execution_count": null,
   "metadata": {},
   "outputs": [],
   "source": [
    "# 21. How to sort column labels in ascending order for the year 2010?\n",
    "df[df.Year==2010].sort_index(axis=1,ascending=True)"
   ]
  },
  {
   "cell_type": "code",
   "execution_count": null,
   "metadata": {},
   "outputs": [],
   "source": [
    "# 22. How to find out Top 5 highest paid salary records for the year 2010? [show only 2 columns:Player name & Salary]\n",
    "df.loc[df[df.Year==2010].sort_values(\"Salary\",ascending=False).index[:5],['Player','Salary']]\n",
    "#df.iloc[df[df.Year==2010].sort_values(\"Salary\",ascending=False).index[:5],[1,2]]"
   ]
  }
 ],
 "metadata": {
  "kernelspec": {
   "display_name": "Python 3",
   "language": "python",
   "name": "python3"
  },
  "language_info": {
   "codemirror_mode": {
    "name": "ipython",
    "version": 3
   },
   "file_extension": ".py",
   "mimetype": "text/x-python",
   "name": "python",
   "nbconvert_exporter": "python",
   "pygments_lexer": "ipython3",
   "version": "3.8.3"
  }
 },
 "nbformat": 4,
 "nbformat_minor": 4
}
