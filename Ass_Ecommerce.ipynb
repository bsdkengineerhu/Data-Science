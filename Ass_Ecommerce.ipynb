{
 "cells": [
  {
   "cell_type": "markdown",
   "metadata": {},
   "source": [
    "<h2 align=\"center\"> Exploratory Data Analysis on E-commerce Data </h2>"
   ]
  },
  {
   "cell_type": "markdown",
   "metadata": {},
   "source": [
    "**Dataset:** The dataset used here for the analysis is downloaded from:\n",
    "https://www.kaggle.com/carrie1/ecommerce-data\n",
    "\n",
    "**About the Dataset:** This is a transnational dataset which contains all the transactions occurring between `01/12/2010` and `09/12/2011` for a UK-based and registered non-store online retail. The company mainly sells unique all-occasion gifts. Many customers of the company are wholesalers.\n",
    "\n",
    "**Column Description:**\n",
    "* InvoiceNo: A number assigned to each transaction\n",
    "* StockCode: Product code\n",
    "* Description: Product name\n",
    "* Quantity: No. of products purchased for each transaction\n",
    "* InvoiceDate: Timestamp for each transaction\n",
    "* UnitPrice: Product price per unit\n",
    "* CustomerID: Unique identifier of each customer\n",
    "* Country: Country name\n",
    "\n",
    "**Queries**\n",
    "\n",
    "1. How to find out total no. of records?\n",
    "2. How to find out total no. of columns?\n",
    "3. Display all column names.\n",
    "4. How to find out all missing values for each column?\n",
    "5. Show all Quantity which has negative values records?\n",
    "6. Find out Total shape of Quantity which has negative values records?\n",
    "7. How to remove all Quantity records with negative values?\n",
    "8. Find out total records shape?\n",
    "9. After UnitPrice column insert new column AmountSpent & also assign the formula?\n",
    "10. InvoiceDate column converts string format into datetime format?\n",
    "11. Add columns after InvoiceDate that consists of the Year, Month, Day, and Hour for each transaction for analysis work.\n",
    "12. How to find out top 5 customers with highest money spent records? Show only 3 columns ['CustomerID','Country','Amount_spent']\n",
    "13. Plotting bar chart: How many orders (per month)?\n",
    "14. Plotting bar chart: How many orders (per day)?\n",
    "15. Plot bar chart: How many orders (per Hour)?"
   ]
  },
  {
   "cell_type": "code",
   "execution_count": null,
   "metadata": {},
   "outputs": [],
   "source": [
    "# Basic EDA Tools:\n",
    "import pandas as pd\n",
    "import numpy as np\n",
    "%matplotlib inline\n",
    "import matplotlib.pyplot as plt"
   ]
  },
  {
   "cell_type": "code",
   "execution_count": null,
   "metadata": {},
   "outputs": [],
   "source": [
    "# Importing the dataset\n",
    "df = pd.read_csv(\"data.csv\", encoding='cp1252')\n",
    "df.head()"
   ]
  },
  {
   "cell_type": "code",
   "execution_count": null,
   "metadata": {},
   "outputs": [],
   "source": [
    "df.describe().round(2) # upto 2 decimal points"
   ]
  },
  {
   "cell_type": "code",
   "execution_count": null,
   "metadata": {},
   "outputs": [],
   "source": [
    "df.info()"
   ]
  },
  {
   "cell_type": "code",
   "execution_count": null,
   "metadata": {},
   "outputs": [],
   "source": [
    "# 1. How to find out total no. of records?\n",
    "print(f\"Total Records: {len(df)}\")"
   ]
  },
  {
   "cell_type": "code",
   "execution_count": null,
   "metadata": {},
   "outputs": [],
   "source": [
    "# 2. How to find out total no. of columns?\n",
    "print(f\"Total no. of columns: {len(df.columns)}\")"
   ]
  },
  {
   "cell_type": "code",
   "execution_count": null,
   "metadata": {},
   "outputs": [],
   "source": [
    "# 3. Display all column names.\n",
    "print(f\"Different columns are: \\n{df.columns.tolist()}\")"
   ]
  },
  {
   "cell_type": "code",
   "execution_count": null,
   "metadata": {},
   "outputs": [],
   "source": [
    "# 4. How to find out all missing values for each column?\n",
    "df.isna().sum()"
   ]
  },
  {
   "cell_type": "markdown",
   "metadata": {},
   "source": [
    "**Column `Description` has 1454 missing values & `CustomerID` has 135080 missing values**\n",
    "\n",
    "Now, Quantity has some -ve values in the dataset and since Quantity can't be negative we can either drop all records having -ve quantities or replace it with any value of our choice."
   ]
  },
  {
   "cell_type": "code",
   "execution_count": null,
   "metadata": {},
   "outputs": [],
   "source": [
    "# 5. Show all Quantity which has negative values records?\n",
    "df[df.Quantity < 0]"
   ]
  },
  {
   "cell_type": "code",
   "execution_count": null,
   "metadata": {},
   "outputs": [],
   "source": [
    "# 6. Find out Total shape of Quantity which has negative values records?\n",
    "df[df.Quantity < 0].shape"
   ]
  },
  {
   "cell_type": "code",
   "execution_count": null,
   "metadata": {},
   "outputs": [],
   "source": [
    "print(f\"Total no. of records before dropping the -ve Qty records: {len(df)}\")"
   ]
  },
  {
   "cell_type": "code",
   "execution_count": null,
   "metadata": {},
   "outputs": [],
   "source": [
    "# df_new = df[~(df.Quantity < 0)] # contains records of all filled Qty.\n",
    "# df_new.head()"
   ]
  },
  {
   "cell_type": "code",
   "execution_count": null,
   "metadata": {},
   "outputs": [],
   "source": [
    "# 7. How to remove all Quantity records with negative values?\n",
    "index = df[df.Quantity < 0].index\n",
    "df.drop(index = index, inplace=True)\n",
    "df"
   ]
  },
  {
   "cell_type": "code",
   "execution_count": null,
   "metadata": {},
   "outputs": [],
   "source": [
    "# 8. Find out new total records shape?\n",
    "print(f\"Total no. of records after dropping the -ve Qty records: {len(df)}\")"
   ]
  },
  {
   "cell_type": "code",
   "execution_count": null,
   "metadata": {},
   "outputs": [],
   "source": [
    "# 9. After UnitPrice column insert new column AmountSpent & also assign the formula?\n",
    "AmountSpent = df.Quantity * df.UnitPrice\n",
    "df.insert(loc=6,column='AmountSpent',value=AmountSpent)\n",
    "df.head()"
   ]
  },
  {
   "cell_type": "code",
   "execution_count": null,
   "metadata": {},
   "outputs": [],
   "source": [
    "# 10. InvoiceDate column converts string format into datetime format?\n",
    "df.InvoiceDate = pd.to_datetime(df.InvoiceDate)\n",
    "df.head()"
   ]
  },
  {
   "cell_type": "code",
   "execution_count": null,
   "metadata": {},
   "outputs": [],
   "source": [
    "# 11. Add columns after InvoiceDate that consists of the Year, Month, Day, and Hour for each transaction for analysis work.\n",
    "Year = df.InvoiceDate.dt.year\n",
    "Month = df.InvoiceDate.dt.month\n",
    "Day = df.InvoiceDate.dt.day\n",
    "Hour = df.InvoiceDate.dt.hour\n",
    "df.insert(5,\"Year\",Year)\n",
    "df.insert(6,\"Month\",Month)\n",
    "df.insert(7,\"Day\",Day)\n",
    "df.insert(8,\"Hour\",Hour)\n",
    "df.head()"
   ]
  },
  {
   "cell_type": "code",
   "execution_count": null,
   "metadata": {},
   "outputs": [],
   "source": [
    "# df.assign(Year = df.InvoiceDate.dt.year, Month = df.InvoiceDate.dt.month,\n",
    "#           Day = df.InvoiceDate.dt.day, Hour = df.InvoiceDate.dt.hour )\n",
    "# df.head()"
   ]
  },
  {
   "cell_type": "code",
   "execution_count": null,
   "metadata": {},
   "outputs": [],
   "source": [
    "# df.nlargest(5,'AmountSpent')"
   ]
  },
  {
   "cell_type": "code",
   "execution_count": null,
   "metadata": {},
   "outputs": [],
   "source": [
    "# 12. How to find out top 5 customers with highest money spent records? Show only 3 columns ['CustomerID','Country','AmountSpent']\n",
    "df.loc[df.sort_values(\"AmountSpent\", ascending=False).index[:5],['CustomerID','Country','AmountSpent']]"
   ]
  },
  {
   "cell_type": "markdown",
   "metadata": {},
   "source": [
    "**Note:** December is present in both the years : Year 2010 & 2011"
   ]
  },
  {
   "cell_type": "code",
   "execution_count": null,
   "metadata": {},
   "outputs": [],
   "source": [
    "df.Month.value_counts()"
   ]
  },
  {
   "cell_type": "code",
   "execution_count": null,
   "metadata": {},
   "outputs": [],
   "source": [
    "# 13. Plotting bar chart: How many orders (per month)?\n",
    "df.groupby([\"Year\",\"Month\"]).sum()['Quantity'].plot.bar(figsize=(10,5),color=\"red\")\n",
    "plt.ylabel(\"Orders\")\n",
    "plt.title(\"Orders per Month\");"
   ]
  },
  {
   "cell_type": "code",
   "execution_count": null,
   "metadata": {},
   "outputs": [],
   "source": [
    "# 14. Plotting bar chart: How many orders (per day)?\n",
    "df.groupby(\"Day\").sum()['Quantity'].plot.bar(figsize=(10,5),color=\"gold\")\n",
    "plt.xticks(rotation=0)\n",
    "plt.ylabel(\"Orders\")\n",
    "plt.title(\"Orders per Day\");"
   ]
  },
  {
   "cell_type": "code",
   "execution_count": null,
   "metadata": {},
   "outputs": [],
   "source": [
    "# 15. Plot bar chart: How many orders (per Hour)?\n",
    "df.groupby(\"Hour\").sum()['Quantity'].plot.bar(figsize=(10,5),color=\"black\")\n",
    "plt.xticks(rotation=0)\n",
    "plt.ylabel(\"Order\")\n",
    "plt.title(\"Orders per Hour\");"
   ]
  }
 ],
 "metadata": {
  "kernelspec": {
   "display_name": "Python 3",
   "language": "python",
   "name": "python3"
  },
  "language_info": {
   "codemirror_mode": {
    "name": "ipython",
    "version": 3
   },
   "file_extension": ".py",
   "mimetype": "text/x-python",
   "name": "python",
   "nbconvert_exporter": "python",
   "pygments_lexer": "ipython3",
   "version": "3.8.3"
  }
 },
 "nbformat": 4,
 "nbformat_minor": 4
}
