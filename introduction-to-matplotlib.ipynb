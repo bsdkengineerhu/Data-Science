{
 "cells": [
  {
   "cell_type": "markdown",
   "metadata": {},
   "source": [
    "# Introduction to Matplotlib"
   ]
  },
  {
   "cell_type": "code",
   "execution_count": null,
   "metadata": {},
   "outputs": [],
   "source": [
    "# magic command to import all methods of matplotlib in this notebook\n",
    "%matplotlib inline \n",
    "import matplotlib.pyplot as plt\n",
    "import pandas as pd\n",
    "import numpy as np"
   ]
  },
  {
   "cell_type": "code",
   "execution_count": null,
   "metadata": {},
   "outputs": [],
   "source": [
    "plt.plot() # empty output of a canvas"
   ]
  },
  {
   "cell_type": "code",
   "execution_count": null,
   "metadata": {},
   "outputs": [],
   "source": [
    "plt.plot(); # semi-col at the end gives no reference only blank canvas"
   ]
  },
  {
   "cell_type": "code",
   "execution_count": null,
   "metadata": {},
   "outputs": [],
   "source": [
    "plt.plot() # returns blank canvas\n",
    "plt.show() # returns no reference"
   ]
  },
  {
   "cell_type": "code",
   "execution_count": null,
   "metadata": {},
   "outputs": [],
   "source": [
    "plt.plot([1,2,3,4]); # plot a straight line (0,1),(1,2),(2,3),(3,4) x represents index"
   ]
  },
  {
   "cell_type": "code",
   "execution_count": null,
   "metadata": {},
   "outputs": [],
   "source": [
    "x=[1,2,3,4] # state-list way of plotting\n",
    "y=[11,22,33,44]\n",
    "plt.plot(x,y); # plot (1,11),(2,22),(3,33),(4,44)"
   ]
  },
  {
   "cell_type": "code",
   "execution_count": null,
   "metadata": {},
   "outputs": [],
   "source": [
    "# 1st method\n",
    "fig= plt.figure() #creates a figure canvas\n",
    "ax= fig.add_subplot() #adds some axes\n",
    "ax.plot();"
   ]
  },
  {
   "cell_type": "code",
   "execution_count": null,
   "metadata": {},
   "outputs": [],
   "source": [
    "# 2nd Method\n",
    "fig=plt.figure() # creates a figure canvas\n",
    "ax=fig.add_axes([1,1,1,1]) # square canvas of same side\n",
    "ax.plot(); # add some data or plt.plot(x,y)"
   ]
  },
  {
   "cell_type": "code",
   "execution_count": null,
   "metadata": {},
   "outputs": [],
   "source": [
    "# 3rd method (recommended)\n",
    "fig,ax=plt.subplots()\n",
    "ax.plot(x,[50,100,200,250]); # add some data x=1,2,3,4"
   ]
  },
  {
   "cell_type": "code",
   "execution_count": null,
   "metadata": {},
   "outputs": [],
   "source": [
    "type(fig),type(ax)"
   ]
  },
  {
   "cell_type": "markdown",
   "metadata": {},
   "source": [
    "## Matplotlib example workflow"
   ]
  },
  {
   "cell_type": "code",
   "execution_count": null,
   "metadata": {},
   "outputs": [],
   "source": [
    "# 0. Import matplotlib and get it ready for plotting in jupyter\n",
    "%matplotlib inline\n",
    "import matplotlib.pyplot as plt\n",
    "\n",
    "# 1. Prepare data\n",
    "x=[1,2,3,4]\n",
    "y=[11,22,33,44]\n",
    "\n",
    "# 2. setup plot\n",
    "fig,ax=plt.subplots(figsize=(10,10)) #(width,height)\n",
    "\n",
    "# 3. Plot data\n",
    "ax.plot(x,y) # plot (x,y) in canvas\n",
    "\n",
    "# 4. Customize plot using set\n",
    "ax.set(title=\"Simple plot\", xlabel=\"x-axis\", ylabel=\"y-axis\")\n",
    "\n",
    "# 5. Save & show (you save the whole figure)\n",
    "fig.savefig(\"sample-plot.png\");"
   ]
  },
  {
   "cell_type": "markdown",
   "metadata": {},
   "source": [
    "## Making figures with NumPy arrays\n",
    "\n",
    "We want:\n",
    "* Line plot\n",
    "* Scatter plot\n",
    "* Bar plot\n",
    "* Histogram\n",
    "* Subplots"
   ]
  },
  {
   "cell_type": "code",
   "execution_count": null,
   "metadata": {},
   "outputs": [],
   "source": [
    "import numpy as np"
   ]
  },
  {
   "cell_type": "code",
   "execution_count": null,
   "metadata": {},
   "outputs": [],
   "source": [
    "# Create some data\n",
    "x=np.linspace(0,10,100) # returns values from 0 to 10 in 100 equal parts\n",
    "x"
   ]
  },
  {
   "cell_type": "code",
   "execution_count": null,
   "metadata": {},
   "outputs": [],
   "source": [
    "# Plot the data & create a line plot\n",
    "fig,ax = plt.subplots()\n",
    "ax.plot(x,x**2); # plotting(x,square of x)"
   ]
  },
  {
   "cell_type": "code",
   "execution_count": null,
   "metadata": {},
   "outputs": [],
   "source": [
    "# Use the same data to make a scatterplot\n",
    "fig,ax=plt.subplots()\n",
    "ax.scatter(x,np.exp(x)); # scatter plot of (x,exp(X))"
   ]
  },
  {
   "cell_type": "code",
   "execution_count": null,
   "metadata": {},
   "outputs": [],
   "source": [
    "# Another scatter plot\n",
    "fig,ax= plt.subplots()\n",
    "ax.scatter(x,np.sin(x)); # scatter plot of (x,sin(x))"
   ]
  },
  {
   "cell_type": "code",
   "execution_count": null,
   "metadata": {},
   "outputs": [],
   "source": [
    "# Making a bar plot from dictionary\n",
    "nut_butter_prices = {\"Almond butter\": 10,\n",
    "                    \"Peanut butter\":18,\n",
    "                    \"Cashew butter\": 12}\n",
    "fig,ax=plt.subplots()\n",
    "ax.bar(nut_butter_prices.keys(),nut_butter_prices.values()); #(x,y)\n",
    "ax.set(title=\"Dan's Nut Butter Store\",\n",
    "       ylabel=\"Price ($)\");"
   ]
  },
  {
   "cell_type": "code",
   "execution_count": null,
   "metadata": {},
   "outputs": [],
   "source": [
    "# Making horizontal bar plot\n",
    "fig,ax=plt.subplots()\n",
    "ax.barh(list(nut_butter_prices.keys()),list(nut_butter_prices.values()));"
   ]
  },
  {
   "cell_type": "code",
   "execution_count": null,
   "metadata": {},
   "outputs": [],
   "source": [
    "# Make some data for histograms and plot it\n",
    "x= np.random.randn(1000) # random numbers upto 1000 between 0 & 1\n",
    "fig,ax= plt.subplots()\n",
    "ax.hist(x, color=\"red\", rwidth=0.8);\n"
   ]
  },
  {
   "cell_type": "markdown",
   "metadata": {},
   "source": [
    "### Two options for subplots:-"
   ]
  },
  {
   "cell_type": "code",
   "execution_count": null,
   "metadata": {},
   "outputs": [],
   "source": [
    "# Subplot option 1\n",
    "fig, ((ax1,ax2),(ax3,ax4))= plt.subplots(nrows=2,ncols=2,figsize=(10,5))\n",
    "\n",
    "# Plot to each different axis\n",
    "ax1.plot(x,x/2);\n",
    "ax2.scatter(np.random.random(10),np.random.random(10));\n",
    "ax3.bar(nut_butter_prices.keys(),nut_butter_prices.values());\n",
    "ax4.hist(np.random.randn(1000));"
   ]
  },
  {
   "cell_type": "code",
   "execution_count": null,
   "metadata": {},
   "outputs": [],
   "source": [
    "# Subplot option 2\n",
    "fig,ax=plt.subplots(nrows=2,ncols=2,figsize=(10,5))\n",
    "\n",
    "# Plot to each different index\n",
    "ax[0,0].plot(x,x/2);\n",
    "ax[0,1].scatter(np.random.random(10),np.random.random(10));\n",
    "ax[1,0].bar(nut_butter_prices.keys(),nut_butter_prices.values());\n",
    "ax[1,1].hist(np.random.randn(1000));"
   ]
  },
  {
   "cell_type": "markdown",
   "metadata": {},
   "source": [
    "## Plotting from pandas Dataframes"
   ]
  },
  {
   "cell_type": "code",
   "execution_count": null,
   "metadata": {},
   "outputs": [],
   "source": [
    "import pandas as pd"
   ]
  },
  {
   "cell_type": "code",
   "execution_count": null,
   "metadata": {},
   "outputs": [],
   "source": [
    "# Make a DataFrame\n",
    "car_sales=pd.read_csv(\"car-sales.csv\")\n",
    "car_sales"
   ]
  },
  {
   "cell_type": "code",
   "execution_count": null,
   "metadata": {},
   "outputs": [],
   "source": [
    "ts=pd.Series(np.random.randn(1000),\n",
    "             index=pd.date_range(\"1/1/2020\", periods=1000))\n",
    "ts=ts.cumsum()\n",
    "ts.plot();"
   ]
  },
  {
   "cell_type": "code",
   "execution_count": null,
   "metadata": {},
   "outputs": [],
   "source": [
    "car_sales"
   ]
  },
  {
   "cell_type": "code",
   "execution_count": null,
   "metadata": {},
   "outputs": [],
   "source": [
    "car_sales.dtypes"
   ]
  },
  {
   "cell_type": "code",
   "execution_count": null,
   "metadata": {},
   "outputs": [],
   "source": [
    "# converting object to integer type\n",
    "car_sales[\"Price\"]=car_sales[\"Price\"].str.replace('[\\$\\,\\.]','')\n",
    "car_sales.head()"
   ]
  },
  {
   "cell_type": "code",
   "execution_count": null,
   "metadata": {},
   "outputs": [],
   "source": [
    "type(car_sales[\"Price\"][0])"
   ]
  },
  {
   "cell_type": "code",
   "execution_count": null,
   "metadata": {},
   "outputs": [],
   "source": [
    "# Remove last 2 zeros\n",
    "car_sales[\"Price\"]=car_sales[\"Price\"].str[:-2]\n",
    "car_sales.head()"
   ]
  },
  {
   "cell_type": "code",
   "execution_count": null,
   "metadata": {},
   "outputs": [],
   "source": [
    "car_sales.Price.dtype"
   ]
  },
  {
   "cell_type": "code",
   "execution_count": null,
   "metadata": {},
   "outputs": [],
   "source": [
    "len(car_sales)"
   ]
  },
  {
   "cell_type": "code",
   "execution_count": null,
   "metadata": {},
   "outputs": [],
   "source": [
    "car_sales[\"Sale Date\"] = pd.date_range(\"1/1/2020\",periods=10)\n",
    "car_sales"
   ]
  },
  {
   "cell_type": "code",
   "execution_count": null,
   "metadata": {},
   "outputs": [],
   "source": [
    "car_sales[\"Total Sales\"]= car_sales[\"Price\"].astype(int).cumsum()\n",
    "car_sales"
   ]
  },
  {
   "cell_type": "code",
   "execution_count": null,
   "metadata": {},
   "outputs": [],
   "source": [
    "# Lets plot the total sales\n",
    "car_sales.plot(x=\"Sale Date\", y=\"Total Sales\");"
   ]
  },
  {
   "cell_type": "code",
   "execution_count": null,
   "metadata": {},
   "outputs": [],
   "source": [
    "# Reassign Price col to int\n",
    "car_sales[\"Price\"]=car_sales[\"Price\"].astype(int)\n",
    "\n",
    "# Plot scatter plot after converting price col to numeric\n",
    "car_sales.plot(x=\"Odometer (KM)\", y=\"Price\", kind=\"scatter\");"
   ]
  },
  {
   "cell_type": "code",
   "execution_count": null,
   "metadata": {},
   "outputs": [],
   "source": [
    "# How about a bar graph\n",
    "x=np.random.rand(10,4) # generates a 10*4 matrix of values between 0 and 1\n",
    "\n",
    "#Turning it into a dataframe\n",
    "df=pd.DataFrame(x, columns=[\"a\",\"b\",\"c\",\"d\"])\n",
    "df"
   ]
  },
  {
   "cell_type": "code",
   "execution_count": null,
   "metadata": {},
   "outputs": [],
   "source": [
    "df.plot.bar(); # or df.plot(kind=\"bar\");"
   ]
  },
  {
   "cell_type": "code",
   "execution_count": null,
   "metadata": {},
   "outputs": [],
   "source": [
    "df.plot(kind=\"bar\");"
   ]
  },
  {
   "cell_type": "code",
   "execution_count": null,
   "metadata": {},
   "outputs": [],
   "source": [
    "car_sales"
   ]
  },
  {
   "cell_type": "code",
   "execution_count": null,
   "metadata": {},
   "outputs": [],
   "source": [
    "car_sales.plot(x=\"Make\",y=\"Price\",kind=\"bar\");"
   ]
  },
  {
   "cell_type": "code",
   "execution_count": null,
   "metadata": {},
   "outputs": [],
   "source": [
    "# How about histograms: for visualising distribution\n",
    "car_sales[\"Odometer (KM)\"].plot(kind='hist',rwidth=0.8);\n",
    "# or car_sales[\"Odometer (KM)\"].plot.hist();"
   ]
  },
  {
   "cell_type": "code",
   "execution_count": null,
   "metadata": {},
   "outputs": [],
   "source": [
    "car_sales[\"Odometer (KM)\"].plot(kind='hist',bins=10);"
   ]
  },
  {
   "cell_type": "code",
   "execution_count": null,
   "metadata": {},
   "outputs": [],
   "source": [
    "car_sales[\"Odometer (KM)\"].plot.hist(bins=10);"
   ]
  },
  {
   "cell_type": "code",
   "execution_count": null,
   "metadata": {},
   "outputs": [],
   "source": [
    "# Another Dataset\n",
    "heart_disease=pd.read_csv(\"heart-disease.csv\")\n",
    "heart_disease.head()"
   ]
  },
  {
   "cell_type": "code",
   "execution_count": null,
   "metadata": {},
   "outputs": [],
   "source": [
    "# create a histogram of age\n",
    "heart_disease[\"age\"].plot.hist(bins=10,rwidth=0.8);"
   ]
  },
  {
   "cell_type": "code",
   "execution_count": null,
   "metadata": {},
   "outputs": [],
   "source": [
    "heart_disease.head()"
   ]
  },
  {
   "cell_type": "code",
   "execution_count": null,
   "metadata": {},
   "outputs": [],
   "source": [
    "heart_disease.plot.hist(figsize=(20,30),subplots=True);"
   ]
  },
  {
   "cell_type": "markdown",
   "metadata": {},
   "source": [
    "### Which one should we use? (pyplot vs matplotlib OO Method)\n",
    "\n",
    "* When plotting something quickly, okay to use the pyplot method\n",
    "* When plotting something more advanced use OO Method"
   ]
  },
  {
   "cell_type": "code",
   "execution_count": null,
   "metadata": {},
   "outputs": [],
   "source": [
    "heart_disease.head()"
   ]
  },
  {
   "cell_type": "code",
   "execution_count": null,
   "metadata": {},
   "outputs": [],
   "source": [
    "over_50= heart_disease[heart_disease[\"age\"]>50]\n",
    "over_50.head()"
   ]
  },
  {
   "cell_type": "code",
   "execution_count": null,
   "metadata": {},
   "outputs": [],
   "source": [
    "# pyplot method\n",
    "over_50.plot(kind=\"scatter\",\n",
    "             x=\"age\",\n",
    "             y=\"chol\",\n",
    "             c=\"target\");"
   ]
  },
  {
   "cell_type": "code",
   "execution_count": null,
   "metadata": {},
   "outputs": [],
   "source": [
    "# OO method mixed with pyplot method\n",
    "fig,ax=plt.subplots(figsize=(10,6))\n",
    "\n",
    "over_50.plot(kind=\"scatter\",\n",
    "             x=\"age\",\n",
    "             y=\"chol\",\n",
    "             c=\"target\",\n",
    "             ax=ax);\n",
    "ax.set_xlim([45,100]);\n",
    "ax.set(title=\"Simple Plot\");"
   ]
  },
  {
   "cell_type": "code",
   "execution_count": null,
   "metadata": {},
   "outputs": [],
   "source": [
    "over_50[\"target\"].value_counts()"
   ]
  },
  {
   "cell_type": "code",
   "execution_count": null,
   "metadata": {},
   "outputs": [],
   "source": [
    "## OO method from scratch\n",
    "fig,ax=plt.subplots(figsize=(10,6))\n",
    "\n",
    "# Plot the data\n",
    "scatter= ax.scatter(x=over_50[\"age\"],\n",
    "                    y=over_50[\"chol\"],\n",
    "                    c=over_50[\"target\"]);\n",
    "\n",
    "# Customize the plot\n",
    "ax.set(title=\"Heart Disease & Cholestrol Levels\",\n",
    "       xlabel=\"Age\",\n",
    "       ylabel=\"Cholestrol\");\n",
    "\n",
    "# Add legends\n",
    "ax.legend(*scatter.legend_elements(),title=\"Target\");\n",
    "\n",
    "# Add horizontal line\n",
    "ax.axhline(over_50[\"chol\"].mean(), linestyle=\"--\");"
   ]
  },
  {
   "cell_type": "code",
   "execution_count": null,
   "metadata": {},
   "outputs": [],
   "source": [
    "over_50.head()"
   ]
  },
  {
   "cell_type": "code",
   "execution_count": null,
   "metadata": {},
   "outputs": [],
   "source": [
    "# OO Method for Subplot of chol, age, thalach\n",
    "fig,(ax0,ax1) = plt.subplots(nrows=2, ncols=1, figsize=(10,10),sharex=True)\n",
    "\n",
    "# Add data to ax0\n",
    "ax0.scatter(x=over_50[\"age\"],y=over_50[\"chol\"],c=over_50[\"target\"])\n",
    "\n",
    "# Customize ax0\n",
    "ax0.set(title=\"Heart Disease & Cholestrol Levels\", ylabel=\"Cholestrol\")\n",
    "\n",
    "# Add Legend\n",
    "ax0.legend(*scatter.legend_elements(),title=\"Target\")\n",
    "\n",
    "# Add a meanline\n",
    "ax0.axhline(y=over_50[\"chol\"].mean(),linestyle=\"--\");\n",
    "\n",
    "# Add data to ax1\n",
    "ax1.scatter(x=over_50[\"age\"],y=over_50[\"thalach\"],c=over_50[\"target\"])\n",
    "\n",
    "# Customize ax1\n",
    "ax1.set(title=\"Heart Disease & Max Heart Rate\", xlabel=\"Age\", ylabel=\"Max Heart Rate\")\n",
    "\n",
    "# Add Legend\n",
    "ax1.legend(*scatter.legend_elements(),title=\"Target\")\n",
    "\n",
    "# Add a meanline\n",
    "ax1.axhline(y=over_50[\"thalach\"].mean(),linestyle=\"--\");\n",
    "\n",
    "# Add a title to the figure\n",
    "fig.suptitle(\"Heart Disease Analysis\", fontsize=16, fontweight=\"bold\");"
   ]
  },
  {
   "cell_type": "markdown",
   "metadata": {},
   "source": [
    "### Customizing Matplotlib plots ang getting stylish"
   ]
  },
  {
   "cell_type": "code",
   "execution_count": null,
   "metadata": {},
   "outputs": [],
   "source": [
    "# See the different styles available\n",
    "plt.style.available"
   ]
  },
  {
   "cell_type": "code",
   "execution_count": null,
   "metadata": {},
   "outputs": [],
   "source": [
    "car_sales.head()"
   ]
  },
  {
   "cell_type": "code",
   "execution_count": null,
   "metadata": {},
   "outputs": [],
   "source": [
    "car_sales[\"Price\"].dtype"
   ]
  },
  {
   "cell_type": "code",
   "execution_count": null,
   "metadata": {},
   "outputs": [],
   "source": [
    "car_sales[\"Price\"].plot();"
   ]
  },
  {
   "cell_type": "code",
   "execution_count": null,
   "metadata": {},
   "outputs": [],
   "source": [
    "plt.style.use(\"seaborn-whitegrid\")"
   ]
  },
  {
   "cell_type": "code",
   "execution_count": null,
   "metadata": {},
   "outputs": [],
   "source": [
    "car_sales[\"Price\"].plot();"
   ]
  },
  {
   "cell_type": "code",
   "execution_count": null,
   "metadata": {},
   "outputs": [],
   "source": [
    "plt.style.use(\"seaborn\")"
   ]
  },
  {
   "cell_type": "code",
   "execution_count": null,
   "metadata": {},
   "outputs": [],
   "source": [
    "car_sales[\"Price\"].plot();"
   ]
  },
  {
   "cell_type": "code",
   "execution_count": null,
   "metadata": {},
   "outputs": [],
   "source": [
    "car_sales.plot(x=\"Odometer (KM)\",y=\"Price\", kind=\"scatter\");"
   ]
  },
  {
   "cell_type": "code",
   "execution_count": null,
   "metadata": {},
   "outputs": [],
   "source": [
    "plt.style.use(\"ggplot\")"
   ]
  },
  {
   "cell_type": "code",
   "execution_count": null,
   "metadata": {},
   "outputs": [],
   "source": [
    "car_sales[\"Price\"].plot();"
   ]
  },
  {
   "cell_type": "code",
   "execution_count": null,
   "metadata": {},
   "outputs": [],
   "source": [
    "# Create some data\n",
    "x=np.random.randn(10,4)\n",
    "x"
   ]
  },
  {
   "cell_type": "code",
   "execution_count": null,
   "metadata": {},
   "outputs": [],
   "source": [
    "df=pd.DataFrame(x,columns=['a','b','c','d'])\n",
    "df"
   ]
  },
  {
   "cell_type": "code",
   "execution_count": null,
   "metadata": {},
   "outputs": [],
   "source": [
    "ax = df.plot(kind=\"bar\");"
   ]
  },
  {
   "cell_type": "code",
   "execution_count": null,
   "metadata": {},
   "outputs": [],
   "source": [
    "# Customize our plot with the set method\n",
    "ax=df.plot(kind=\"bar\")\n",
    "# Add some labels and title\n",
    "ax.set(title=\"Random Number Bar Graph from DataFrame\",\n",
    "       xlabel=\"Row Number\",\n",
    "       ylabel=\"Random Number\");\n",
    "# Make Legends\n",
    "ax.legend().set_visible(True)"
   ]
  },
  {
   "cell_type": "code",
   "execution_count": null,
   "metadata": {},
   "outputs": [],
   "source": [
    "# Set the style\n",
    "plt.style.use(\"seaborn-whitegrid\")\n",
    "\n",
    "## OO method from scratch\n",
    "fig,ax=plt.subplots(figsize=(10,6))\n",
    "\n",
    "# Plot the data\n",
    "scatter= ax.scatter(x=over_50[\"age\"],\n",
    "                    y=over_50[\"chol\"],\n",
    "                    c=over_50[\"target\"],\n",
    "                    cmap=\"winter\"); #this changes the col scheme\n",
    "\n",
    "# Customize the plot\n",
    "ax.set(title=\"Heart Disease & Cholestrol Levels\",\n",
    "       xlabel=\"Age\",\n",
    "       ylabel=\"Cholestrol\");\n",
    "\n",
    "# Add legends\n",
    "ax.legend(*scatter.legend_elements(),title=\"Target\");\n",
    "\n",
    "# Add horizontal line\n",
    "ax.axhline(over_50[\"chol\"].mean(), linestyle=\"--\");"
   ]
  },
  {
   "cell_type": "markdown",
   "metadata": {},
   "source": [
    "**This plot shows some information about the heart disease dataset...**"
   ]
  },
  {
   "cell_type": "code",
   "execution_count": null,
   "metadata": {},
   "outputs": [],
   "source": [
    "# Customizing the y and x axis limitations\n",
    "\n",
    "# Subplot of chol, age, thalach\n",
    "fig,(ax0,ax1) = plt.subplots(nrows=2, ncols=1, figsize=(10,10), sharex=True)\n",
    "\n",
    "# Add data to ax0\n",
    "scatter=ax0.scatter(x=over_50[\"age\"],y=over_50[\"chol\"],c=over_50[\"target\"],cmap=\"winter\")\n",
    "\n",
    "# Customize ax0\n",
    "ax0.set(title=\"Heart Disease & Cholestrol Levels\",ylabel=\"Cholestrol\")\n",
    "\n",
    "# Change the x-axis limits\n",
    "ax0.set_xlim([50,80])\n",
    "\n",
    "# Add Legend\n",
    "ax0.legend(*scatter.legend_elements(),title=\"Target\")\n",
    "\n",
    "# Add a meanline\n",
    "ax0.axhline(y=over_50[\"chol\"].mean(),linestyle=\"--\");\n",
    "\n",
    "# Add data to ax1\n",
    "scatter=ax1.scatter(x=over_50[\"age\"],y=over_50[\"thalach\"],c=over_50[\"target\"],cmap=\"winter\")\n",
    "\n",
    "# Customize ax1\n",
    "ax1.set(title=\"Heart Disease & Max Heart Rate\",xlabel=\"Age\",ylabel=\"Max Heart Rate\")\n",
    "\n",
    "# Change ax1 x axis limits\n",
    "ax1.set_xlim([50,80])\n",
    "ax1.set_ylim([60,200])\n",
    "\n",
    "# Add Legend\n",
    "ax1.legend(*scatter.legend_elements(),title=\"Target\")\n",
    "\n",
    "# Add a meanline\n",
    "ax1.axhline(y=over_50[\"thalach\"].mean(),linestyle=\"--\");\n",
    "\n",
    "# Add a title to the figure\n",
    "fig.suptitle(\"Heart Disease Analysis\", fontsize=16, fontweight=\"bold\");"
   ]
  },
  {
   "cell_type": "code",
   "execution_count": null,
   "metadata": {},
   "outputs": [],
   "source": [
    "fig"
   ]
  },
  {
   "cell_type": "code",
   "execution_count": null,
   "metadata": {},
   "outputs": [],
   "source": [
    "fig.savefig(\"heart-disease-analysis-plot-saved-with-code.png\")"
   ]
  }
 ],
 "metadata": {
  "kernelspec": {
   "display_name": "Python 3",
   "language": "python",
   "name": "python3"
  },
  "language_info": {
   "codemirror_mode": {
    "name": "ipython",
    "version": 3
   },
   "file_extension": ".py",
   "mimetype": "text/x-python",
   "name": "python",
   "nbconvert_exporter": "python",
   "pygments_lexer": "ipython3",
   "version": "3.8.3"
  }
 },
 "nbformat": 4,
 "nbformat_minor": 2
}
