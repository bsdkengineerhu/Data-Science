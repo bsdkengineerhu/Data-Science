{
 "cells": [
  {
   "cell_type": "markdown",
   "metadata": {},
   "source": [
    "<h2 align=\"center\">Nice Weather Dataset</h2>"
   ]
  },
  {
   "cell_type": "markdown",
   "metadata": {},
   "source": [
    "**Queries:**\n",
    "\n",
    "1. How to find out total no. of records & columns?\n",
    "2. How to find out list of all columns names?\n",
    "3. How to find out all missing values count in all columns?\n",
    "4. How to show all missing Events records?\n",
    "5. How to show all missing WindSpeedMPH records?\n",
    "6. How to find out Max & Min Temperature values?\n",
    "7. Show Max. Temperature complete record?\n",
    "8. Show Min. Temperature complete record?\n",
    "9. How to find out what date was rained?\n",
    "10. Show all rained date complete records?\n",
    "11. How to find out what date was Snowfall?\n",
    "12. Show all Snow fall date complete records?\n",
    "\n",
    "**Dataset:** The dataset used to solve the above queries is `\"nyc_weather.csv\"`.\n",
    "\n",
    "**About the data:**\n",
    "1. EST: Time-series data of 1 month from 1 Jan 2016 to 31 Jan 2016.\n",
    "\n",
    "2. Temperature: Temperature in Farenhiet/Celsius.\n",
    "\n",
    "3. DewPoint: The dew point is the temperature to which air must be cooled to become saturated with water vapor. When cooled further, the airborne water vapor will condense to form liquid water (dew).\n",
    "\n",
    "4. Humidity: The concentration of water vapor present in the air. It indicates the likelihood for precipitation, dew, or fog to be present (in %age).\n",
    "\n",
    "5. Sea Level PressureIn: The atmospheric pressure at mean sea level. Earth's atmospheric pressure at sea level is approximately 1 atm\n",
    "\n",
    "6. VisibilityMiles: On a clear day, visibility is about 18.6 miles.\n",
    "\n",
    "7. WindSpeedMPH: The wind speed in MilesperHour.\n",
    "\n",
    "8. PrecipitationIn: Water that falls from the clouds towards the ground, especially as rain or snow, Hail and sleet are types of precipitation. In a forecast that suggests a 40% precipitation, 40% of the forecast area will receive rainfall during the specific forecast period.\n",
    "\n",
    "9. CloudCover: Cloud cover (also known as cloudiness, cloudage, or cloud amount) refers to the fraction of the sky obscured by clouds when observed from a particular location. 'Okta' is the usual unit of measurement of the cloud cover.\n",
    "\n",
    "10. Events: Showing the events of Rain, Fog-snow and Snow.\n",
    "\n",
    "11. WindDirDegrees: Wind blowing from the north has a wind direction of 0° (360°); a wind blowing from the east has a wind direction of 90°; a wind blowing from the south has a wind direction of 180°; and a wind blowing from the west has a wind direction of 270°.    "
   ]
  },
  {
   "cell_type": "code",
   "execution_count": null,
   "metadata": {},
   "outputs": [],
   "source": [
    "# Basic EDA Tools\n",
    "import numpy as np\n",
    "import pandas as pd"
   ]
  },
  {
   "cell_type": "code",
   "execution_count": null,
   "metadata": {},
   "outputs": [],
   "source": [
    "# Importing the dataset\n",
    "df = pd.read_csv(\"Dataset/nyc_weather.csv\")\n",
    "df.head()"
   ]
  },
  {
   "cell_type": "code",
   "execution_count": null,
   "metadata": {},
   "outputs": [],
   "source": [
    "df.info()"
   ]
  },
  {
   "cell_type": "code",
   "execution_count": null,
   "metadata": {},
   "outputs": [],
   "source": [
    "# 1. How to find out total no. of records & columns?\n",
    "df.shape"
   ]
  },
  {
   "cell_type": "code",
   "execution_count": null,
   "metadata": {},
   "outputs": [],
   "source": [
    "# 2. How to find out list of all columns names?\n",
    "list(df.columns)"
   ]
  },
  {
   "cell_type": "code",
   "execution_count": null,
   "metadata": {},
   "outputs": [],
   "source": [
    "# 3. How to find out all missing values count in all columns?\n",
    "df.isna().sum()"
   ]
  },
  {
   "cell_type": "code",
   "execution_count": null,
   "metadata": {},
   "outputs": [],
   "source": [
    "# 4. How to show all missing Events records?\n",
    "df[df.Events.isna()]"
   ]
  },
  {
   "cell_type": "code",
   "execution_count": null,
   "metadata": {},
   "outputs": [],
   "source": [
    "# 5. How to show all missing WindSpeedMPH records?\n",
    "df[df.WindSpeedMPH.isna()]"
   ]
  },
  {
   "cell_type": "code",
   "execution_count": null,
   "metadata": {},
   "outputs": [],
   "source": [
    "# 6. How to find out Max & Min Temperature values?\n",
    "np.max(df.Temperature), np.min(df.Temperature)"
   ]
  },
  {
   "cell_type": "code",
   "execution_count": null,
   "metadata": {},
   "outputs": [],
   "source": [
    "# 7. Show Max. Temperature complete record?\n",
    "df[df.Temperature == np.max(df.Temperature)]\n",
    "# df[df.Temperature == 50]"
   ]
  },
  {
   "cell_type": "code",
   "execution_count": null,
   "metadata": {},
   "outputs": [],
   "source": [
    "# 8. Show Min. Temperature complete record?\n",
    "df[df.Temperature == np.min(df.Temperature)]\n",
    "# df[df.Temperature == 20]"
   ]
  },
  {
   "cell_type": "code",
   "execution_count": null,
   "metadata": {},
   "outputs": [],
   "source": [
    "# 9. How to find out what date was rained?\n",
    "df.sort_values(\"Events\")[df.sort_values(\"Events\").Events==\"Rain\"].EST"
   ]
  },
  {
   "cell_type": "code",
   "execution_count": null,
   "metadata": {},
   "outputs": [],
   "source": [
    "# 10. Show all rained date complete records?\n",
    "df[df.Events==\"Rain\"]"
   ]
  },
  {
   "cell_type": "code",
   "execution_count": null,
   "metadata": {},
   "outputs": [],
   "source": [
    "# 11. How to find out what date was Snowfall?\n",
    "\n",
    "df.sort_values(\"Events\")[df.sort_values(\"Events\").Events==\"Fog-Snow\"].EST"
   ]
  },
  {
   "cell_type": "code",
   "execution_count": null,
   "metadata": {},
   "outputs": [],
   "source": [
    "# 12. Show all Snow fall date complete records?\n",
    "df[df.Events==\"Fog-Snow\"]"
   ]
  }
 ],
 "metadata": {
  "kernelspec": {
   "display_name": "Python 3",
   "language": "python",
   "name": "python3"
  },
  "language_info": {
   "codemirror_mode": {
    "name": "ipython",
    "version": 3
   },
   "file_extension": ".py",
   "mimetype": "text/x-python",
   "name": "python",
   "nbconvert_exporter": "python",
   "pygments_lexer": "ipython3",
   "version": "3.8.3"
  }
 },
 "nbformat": 4,
 "nbformat_minor": 4
}
