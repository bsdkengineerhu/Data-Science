{
 "cells": [
  {
   "cell_type": "markdown",
   "metadata": {},
   "source": [
    "<h2 align=\"center\">Line plot</h2>"
   ]
  },
  {
   "cell_type": "code",
   "execution_count": null,
   "metadata": {},
   "outputs": [],
   "source": [
    "import matplotlib.pyplot as plt"
   ]
  },
  {
   "cell_type": "code",
   "execution_count": null,
   "metadata": {},
   "outputs": [],
   "source": [
    "x = [1,2,3,4,5,6,7]\n",
    "y = [50,51,52,48,47,49,46]"
   ]
  },
  {
   "cell_type": "code",
   "execution_count": null,
   "metadata": {},
   "outputs": [],
   "source": [
    "plt.xlabel('Day')\n",
    "plt.ylabel('Temperature')\n",
    "plt.title('Weather')\n",
    "plt.plot(x,y)\n",
    "plt.show()"
   ]
  },
  {
   "cell_type": "code",
   "execution_count": null,
   "metadata": {},
   "outputs": [],
   "source": [
    "plt.xlabel('Day')\n",
    "plt.ylabel('Temperature')\n",
    "plt.title('Weather')\n",
    "plt.plot(x,y,color='green',linewidth=5,linestyle='--') # ls:'-', '--', '-.', ':', ''\n",
    "plt.show()"
   ]
  },
  {
   "cell_type": "code",
   "execution_count": null,
   "metadata": {},
   "outputs": [],
   "source": [
    "plt.plot(x,y,'b+--');"
   ]
  },
  {
   "cell_type": "code",
   "execution_count": null,
   "metadata": {},
   "outputs": [],
   "source": [
    "plt.plot(x,y,color='blue',marker='+',linestyle='--');"
   ]
  },
  {
   "cell_type": "code",
   "execution_count": null,
   "metadata": {},
   "outputs": [],
   "source": [
    "plt.plot(x,y,c='b',marker='D',linestyle='--',linewidth=5,markersize=20);"
   ]
  },
  {
   "cell_type": "code",
   "execution_count": null,
   "metadata": {},
   "outputs": [],
   "source": [
    "plt.plot(x,y,'b*--');\n",
    "# ``'.'``          point marker\n",
    "# ``','``          pixel marker\n",
    "# ``'o'``          circle marker\n",
    "# ``'v'``          triangle_down marker\n",
    "# ``'^'``          triangle_up marker\n",
    "# ``'<'``          triangle_left marker\n",
    "# ``'>'``          triangle_right marker\n",
    "# ``'1'``          tri_down marker\n",
    "# ``'2'``          tri_up marker\n",
    "# ``'3'``          tri_left marker\n",
    "# ``'4'``          tri_right marker\n",
    "# ``'s'``          square marker\n",
    "# ``'p'``          pentagon marker\n",
    "# ``'*'``          star marker\n",
    "# ``'h'``          hexagon1 marker\n",
    "# ``'H'``          hexagon2 marker\n",
    "# ``'+'``          plus marker\n",
    "# ``'x'``          x marker\n",
    "# ``'D'``          diamond marker\n",
    "# ``'d'``          thin_diamond marker\n",
    "# ``'|'``          vline marker\n",
    "# ``'_'``          hline marker"
   ]
  },
  {
   "cell_type": "markdown",
   "metadata": {},
   "source": [
    "**Marker**"
   ]
  },
  {
   "cell_type": "code",
   "execution_count": null,
   "metadata": {},
   "outputs": [],
   "source": [
    "plt.plot(x,y,color='blue',marker='+',linestyle='-',markersize=20)"
   ]
  },
  {
   "cell_type": "markdown",
   "metadata": {},
   "source": [
    "**Alpha**"
   ]
  },
  {
   "cell_type": "code",
   "execution_count": null,
   "metadata": {},
   "outputs": [],
   "source": [
    "plt.plot(x,y,'g<--',alpha=1);"
   ]
  },
  {
   "cell_type": "code",
   "execution_count": null,
   "metadata": {},
   "outputs": [],
   "source": [
    "days = [1,2,3,4,5,6,7]\n",
    "max_t = [50,51,52,48,47,49,46]\n",
    "min_t = [43,42,40,44,33,35,37]\n",
    "avg_t = [45,48,48,46,40,42,41]"
   ]
  },
  {
   "cell_type": "code",
   "execution_count": null,
   "metadata": {},
   "outputs": [],
   "source": [
    "plt.plot(days,max_t)\n",
    "plt.plot(days,min_t)\n",
    "plt.plot(days,avg_t);"
   ]
  },
  {
   "cell_type": "markdown",
   "metadata": {},
   "source": [
    "**Axes Labels & Chart Titles**"
   ]
  },
  {
   "cell_type": "code",
   "execution_count": null,
   "metadata": {},
   "outputs": [],
   "source": [
    "plt.xlabel('Days')\n",
    "plt.ylabel('Temperature')\n",
    "plt.title('Weather')\n",
    "plt.plot(days,max_t,label='max')\n",
    "plt.plot(days,min_t,label='min')\n",
    "plt.plot(days,avg_t,label='average');"
   ]
  },
  {
   "cell_type": "code",
   "execution_count": null,
   "metadata": {},
   "outputs": [],
   "source": [
    "plt.plot(days,max_t,label='max')\n",
    "plt.plot(days,min_t,label='min')\n",
    "plt.plot(days,avg_t,label='average')\n",
    "plt.legend(loc='best')"
   ]
  },
  {
   "cell_type": "code",
   "execution_count": null,
   "metadata": {},
   "outputs": [],
   "source": [
    "plt.plot(days,max_t,label='max')\n",
    "plt.plot(days,min_t,label='min')\n",
    "plt.plot(days,avg_t,label='average')\n",
    "plt.legend(loc='best', shadow=True, fontsize='large');"
   ]
  },
  {
   "cell_type": "code",
   "execution_count": null,
   "metadata": {},
   "outputs": [],
   "source": [
    "plt.plot(days,max_t,label='max')\n",
    "plt.plot(days,min_t,label='min')\n",
    "plt.plot(days,avg_t,label='average')\n",
    "plt.legend(loc='best',fontsize='large',shadow=True)\n",
    "plt.grid()"
   ]
  },
  {
   "cell_type": "markdown",
   "metadata": {},
   "source": [
    "<h2 align=\"center\">Bar plot</h2>"
   ]
  },
  {
   "cell_type": "code",
   "execution_count": null,
   "metadata": {},
   "outputs": [],
   "source": [
    "company = ['Google','Amazon','Microsoft','Facebook']\n",
    "revenue = [90,136,89,27]"
   ]
  },
  {
   "cell_type": "code",
   "execution_count": null,
   "metadata": {},
   "outputs": [],
   "source": [
    "import numpy as np\n",
    "xpos = np.arange(len(company))"
   ]
  },
  {
   "cell_type": "code",
   "execution_count": null,
   "metadata": {},
   "outputs": [],
   "source": [
    "plt.bar(xpos,revenue,label='Revenue')\n",
    "plt.xticks(xpos,company)\n",
    "plt.ylabel('Revenue($Bn)')\n",
    "plt.title('US Technology Stocks')\n",
    "plt.legend();"
   ]
  },
  {
   "cell_type": "code",
   "execution_count": null,
   "metadata": {},
   "outputs": [],
   "source": [
    "plt.bar(company,revenue,label='Revenue')\n",
    "plt.legend();"
   ]
  },
  {
   "cell_type": "markdown",
   "metadata": {},
   "source": [
    "**Horizontal Bar Chart**"
   ]
  },
  {
   "cell_type": "code",
   "execution_count": null,
   "metadata": {},
   "outputs": [],
   "source": [
    "plt.barh(xpos,revenue,label='Revenue')\n",
    "plt.yticks(xpos,company)\n",
    "plt.xlabel('Revenue($Bn)')\n",
    "plt.title('US Technology Stocks')\n",
    "plt.legend();"
   ]
  },
  {
   "cell_type": "markdown",
   "metadata": {},
   "source": [
    "**Multiple Bars**"
   ]
  },
  {
   "cell_type": "code",
   "execution_count": null,
   "metadata": {},
   "outputs": [],
   "source": [
    "profit = [40,2,34,12]"
   ]
  },
  {
   "cell_type": "code",
   "execution_count": null,
   "metadata": {},
   "outputs": [],
   "source": [
    "plt.bar(xpos-0.2,revenue,label='Revenue',width=0.3)\n",
    "plt.bar(xpos+0.2,profit,label='Profit',width=0.3)\n",
    "plt.xticks(xpos,company)\n",
    "plt.ylabel('Revenue($Bn)')\n",
    "plt.title('US Technology Stocks')\n",
    "plt.legend();"
   ]
  },
  {
   "cell_type": "markdown",
   "metadata": {},
   "source": [
    "<h2 align=\"center\">Histograms</h2>"
   ]
  },
  {
   "cell_type": "code",
   "execution_count": null,
   "metadata": {},
   "outputs": [],
   "source": [
    "blood_sugar = [113,85,90,150,149,88,93,115,135,80,77,82,129]\n",
    "plt.hist(blood_sugar,rwidth=0.8);"
   ]
  },
  {
   "cell_type": "code",
   "execution_count": null,
   "metadata": {},
   "outputs": [],
   "source": [
    "plt.hist(blood_sugar, rwidth=0.5, bins=3);"
   ]
  },
  {
   "cell_type": "markdown",
   "metadata": {},
   "source": [
    "**Histogram showing normal, pre-diabetic and diabetic patients distribution**\n",
    "\n",
    "* 80-100: Normal\n",
    "* 100-125: Pre-Diabetic\n",
    "* 125-150: Diabetic"
   ]
  },
  {
   "cell_type": "code",
   "execution_count": null,
   "metadata": {},
   "outputs": [],
   "source": [
    "plt.xlabel('Sugar-Level')\n",
    "plt.ylabel('No. of Patients')\n",
    "plt.title('Blood Sugar Chart')\n",
    "plt.hist(blood_sugar,bins=[80,100,125,150],rwidth=0.96,color='red');"
   ]
  },
  {
   "cell_type": "markdown",
   "metadata": {},
   "source": [
    "**Multiple Data Samples**"
   ]
  },
  {
   "cell_type": "code",
   "execution_count": null,
   "metadata": {},
   "outputs": [],
   "source": [
    "plt.xlabel('Sugar-Level')\n",
    "plt.ylabel('No. of Patients')\n",
    "plt.title('Blood Sugar Chart')\n",
    "bsm = [113,85,90,150,149,88,93,115,135,80,77,82,129]\n",
    "bsf = [67,98,89,120,133,150,84,69,89,79,120,112,100]\n",
    "plt.hist([bsm,bsf],bins=[80,100,125,150],rwidth=0.95,color=['red','pink'],label=['Men','Women'])\n",
    "plt.legend();"
   ]
  },
  {
   "cell_type": "markdown",
   "metadata": {},
   "source": [
    "**histtype = step**"
   ]
  },
  {
   "cell_type": "code",
   "execution_count": null,
   "metadata": {},
   "outputs": [],
   "source": [
    "plt.xlabel('Sugar-Level')\n",
    "plt.ylabel('No. of Patients')\n",
    "plt.title('Blood Sugar Chart')\n",
    "plt.hist(blood_sugar,bins=[80,100,125,150],rwidth=0.95,histtype='step',color='k');"
   ]
  },
  {
   "cell_type": "markdown",
   "metadata": {},
   "source": [
    "**Horizontal orientation**"
   ]
  },
  {
   "cell_type": "code",
   "execution_count": null,
   "metadata": {},
   "outputs": [],
   "source": [
    "plt.xlabel('Sugar-Level')\n",
    "plt.ylabel('No. of Patients')\n",
    "plt.title('Blood Sugar Chart')\n",
    "plt.hist(blood_sugar,bins=[80,100,125,150],rwidth=0.95,orientation='horizontal');"
   ]
  }
 ],
 "metadata": {
  "kernelspec": {
   "display_name": "Python 3",
   "language": "python",
   "name": "python3"
  },
  "language_info": {
   "codemirror_mode": {
    "name": "ipython",
    "version": 3
   },
   "file_extension": ".py",
   "mimetype": "text/x-python",
   "name": "python",
   "nbconvert_exporter": "python",
   "pygments_lexer": "ipython3",
   "version": "3.8.3"
  }
 },
 "nbformat": 4,
 "nbformat_minor": 4
}
