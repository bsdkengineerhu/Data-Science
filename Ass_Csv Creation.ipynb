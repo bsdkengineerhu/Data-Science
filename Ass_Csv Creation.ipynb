{
 "cells": [
  {
   "cell_type": "code",
   "execution_count": null,
   "metadata": {},
   "outputs": [],
   "source": [
    "# Basic EDA Tools\n",
    "import numpy as np\n",
    "import pandas as pd"
   ]
  },
  {
   "cell_type": "markdown",
   "metadata": {},
   "source": [
    "**3 excel files to be created with titles `Emp1`, `Emp2`, `Emp3`**"
   ]
  },
  {
   "cell_type": "code",
   "execution_count": null,
   "metadata": {},
   "outputs": [],
   "source": [
    "file_1 = pd.DataFrame(columns=[\"id\",\"name\",\"designation\",\"age\",\"salary\",\"address\"])\n",
    "file_2 = pd.DataFrame(columns=[\"id\",\"name\",\"designation\",\"age\",\"salary\",\"address\"])\n",
    "file_3 = pd.DataFrame(columns=[\"id\",\"name\",\"designation\",\"age\",\"salary\",\"address\"])"
   ]
  },
  {
   "cell_type": "code",
   "execution_count": null,
   "metadata": {},
   "outputs": [],
   "source": [
    "# Data for file_1\n",
    "id = [1,2,3,4,5,6,7,8,9,10]\n",
    "name = [\"Imran\",\"Manish\",\"Krishna\",\"Abhishek\",\"Swapnil\",\"Vikash\",\"Sania\",\"Shivali\",\"Rohit\",\"Fatima\"]\n",
    "designation = [\"ML Expert\",\"Python Developer\",\"Surgeon\",\"Engineer\",\"Data Analyst\",\"Teacher\",\"HR Head\",\"Manager\",\"Marketing Head\",\"Professor\"]\n",
    "age = [25,23,24,26,'',24,28,20,25,24]\n",
    "salary = [1000000, 120000, 34000, 223445, 98743, 938403,93329, '', 390844, 394094]\n",
    "address = [\"Noida\",\"Himachal\",\"Bihar\",\"UP\",\"UP\",\"Rajasthan\",\"Batala\",\"Jalandhar\",\"Mumbai\",\"Noida\"]"
   ]
  },
  {
   "cell_type": "code",
   "execution_count": null,
   "metadata": {},
   "outputs": [],
   "source": [
    "file_1.id=id\n",
    "file_1.name=name\n",
    "file_1.designation=designation\n",
    "file_1.age=age\n",
    "file_1.salary=salary\n",
    "file_1.address=address"
   ]
  },
  {
   "cell_type": "code",
   "execution_count": null,
   "metadata": {},
   "outputs": [],
   "source": [
    "# Data for file_2\n",
    "id = [11,12,13,14,15,16,17,18,19,20]\n",
    "name = [\"Aadil\",\"Bharti\",\"Chandan\",\"Diwakar\",\"Ekta\",\"Farheen\",\"Gagan\",\"Harsh\",\"Jasvir\",\"Kunal\"]\n",
    "designation = [\"Accountant\",\"Administrator\",\"Plumber\",\"Chef\",\"\",\"Architecture\",\"Operations\",\"Supply Chain\",\"Software Engineer\",\"Robotics\"]\n",
    "age = list(np.random.randint(20,40,10))\n",
    "salary = list(np.random.randint(100000,500000,10))\n",
    "address = [\"Gurgaon\",\"Laxmi Nagar\",\"Vasundhra\",\"Ghaziabad\",\"Mayur-Vihar\",\"Sarojini Nagar\",\"Kaushambi\",\"Anand Vihar\",\"Preet Vihar\",\"Karkarduma\"]"
   ]
  },
  {
   "cell_type": "code",
   "execution_count": null,
   "metadata": {},
   "outputs": [],
   "source": [
    "file_2.id=id\n",
    "file_2.name=name\n",
    "file_2.designation=designation\n",
    "file_2.age=age\n",
    "file_2.salary=salary\n",
    "file_2.address=address"
   ]
  },
  {
   "cell_type": "code",
   "execution_count": null,
   "metadata": {},
   "outputs": [],
   "source": [
    "# Data for file_3\n",
    "id = [21,22,23,24,25,26,27,28,29,30]\n",
    "name = [\"Abhilash\",\"Bobby\",\"Chaman\",\"Diwakar\",\"Gurkanwal\",\"Hamina\",\"Kamal\",\"Manas\",\"Prateek\",\"Sandy\"]\n",
    "designation = [\"Electrician\",\"DG Operator\",\"DJ\",\"Musician\",\"Dancer\",\"Singer\",\"Custom Officer\",\"Actor\",\"Writer\",\"Loader\"]\n",
    "age = list(np.random.randint(20,35,10))\n",
    "salary = list(np.random.randint(100000,200000,10))\n",
    "address = [\"Jalandhar\",\"Phagwara\",\"\",\"Nawashahar\",\"Ludhiana\",\"Hoshiarpur\",\"Amritsar\",\"Chandigarh\",\"Ropar\",\"Karnal\"]"
   ]
  },
  {
   "cell_type": "code",
   "execution_count": null,
   "metadata": {},
   "outputs": [],
   "source": [
    "file_3.id=id\n",
    "file_3.name=name\n",
    "file_3.designation=designation\n",
    "file_3.age=age\n",
    "file_3.salary=salary\n",
    "file_3.address=address"
   ]
  },
  {
   "cell_type": "markdown",
   "metadata": {},
   "source": [
    "**Saving the data into 3 different excel files**"
   ]
  },
  {
   "cell_type": "code",
   "execution_count": null,
   "metadata": {},
   "outputs": [],
   "source": [
    "file_1.to_excel(\"Dataset/Emp1.xls\", index=False)\n",
    "file_2.to_excel(\"Dataset/Emp2.xls\", index=False)\n",
    "file_3.to_excel(\"Dataset/Emp3.xls\", index=False)"
   ]
  },
  {
   "cell_type": "markdown",
   "metadata": {},
   "source": [
    "**Loading the data from the excel files just created**"
   ]
  },
  {
   "cell_type": "code",
   "execution_count": null,
   "metadata": {},
   "outputs": [],
   "source": [
    "f1= pd.read_excel(\"Dataset/Emp1.xls\")\n",
    "f2= pd.read_excel(\"Dataset/Emp2.xls\")\n",
    "f3= pd.read_excel(\"Dataset/Emp3.xls\")"
   ]
  },
  {
   "cell_type": "code",
   "execution_count": null,
   "metadata": {},
   "outputs": [],
   "source": [
    "f1.head(2)"
   ]
  },
  {
   "cell_type": "code",
   "execution_count": null,
   "metadata": {},
   "outputs": [],
   "source": [
    "f2.head(2)"
   ]
  },
  {
   "cell_type": "code",
   "execution_count": null,
   "metadata": {},
   "outputs": [],
   "source": [
    "f3.head(2)"
   ]
  },
  {
   "cell_type": "markdown",
   "metadata": {},
   "source": [
    "**Now the 3 different excel files have been created. Now, getting all the data in a single file and saving it to a csv format**"
   ]
  },
  {
   "cell_type": "code",
   "execution_count": null,
   "metadata": {},
   "outputs": [],
   "source": [
    "file = pd.concat([f1,f2,f3], ignore_index=True)\n",
    "file[0:30:10]"
   ]
  },
  {
   "cell_type": "code",
   "execution_count": null,
   "metadata": {},
   "outputs": [],
   "source": [
    "file.to_csv(\"Dataset/Employee.csv\", index=False)"
   ]
  },
  {
   "cell_type": "markdown",
   "metadata": {},
   "source": [
    "**Loading the csv file just created**"
   ]
  },
  {
   "cell_type": "code",
   "execution_count": null,
   "metadata": {},
   "outputs": [],
   "source": [
    "csv_file = pd.read_csv(\"Dataset/Employee.csv\")"
   ]
  },
  {
   "cell_type": "code",
   "execution_count": null,
   "metadata": {},
   "outputs": [],
   "source": [
    "csv_file"
   ]
  },
  {
   "cell_type": "code",
   "execution_count": null,
   "metadata": {},
   "outputs": [],
   "source": [
    "csv_file.info()"
   ]
  },
  {
   "cell_type": "code",
   "execution_count": null,
   "metadata": {},
   "outputs": [],
   "source": [
    "csv_file.isna().sum()"
   ]
  },
  {
   "cell_type": "markdown",
   "metadata": {},
   "source": [
    "**Till now we have created 3 different excel files and filled values in it. Now doing the same by creating 1 excel file having 3 different sheets**"
   ]
  },
  {
   "cell_type": "code",
   "execution_count": null,
   "metadata": {},
   "outputs": [],
   "source": [
    "df_1 = pd.DataFrame({\n",
    "    'id':[1,2,3,4,5,6,7,8,9,10],\n",
    "    'name':[\"Imran\",\"Manish\",\"Krishna\",\"Abhishek\",\"Swapnil\",\"Vikash\",\"Sania\",\"Shivali\",\"Rohit\",\"Fatima\"],\n",
    "    'designation':[\"ML Expert\",\"Python Developer\",\"Surgeon\",\"Engineer\",\"Data Analyst\",\"Teacher\",\"HR Head\",\"Manager\",\"Marketing Head\",\"Professor\"],\n",
    "    'age':[25,23,24,26,'',24,28,20,25,24],\n",
    "    'salary':[1000000, 120000, 34000, 223445, 98743, 938403,93329, '', 390844, 394094],\n",
    "    'address':[\"Noida\",\"Himachal\",\"Bihar\",\"UP\",\"UP\",\"Rajasthan\",\"Batala\",\"Jalandhar\",\"Mumbai\",\"Noida\"]\n",
    "})\n",
    "\n",
    "df_2 = pd.DataFrame({\n",
    "    'id':[11,12,13,14,15,16,17,18,19,20],\n",
    "    'name':[\"Aadil\",\"Bharti\",\"Chandan\",\"Diwakar\",\"Ekta\",\"Farheen\",\"Gagan\",\"Harsh\",\"Jasvir\",\"Kunal\"],\n",
    "    'designation':[\"Accountant\",\"Administrator\",\"Plumber\",\"Chef\",\"\",\"Architecture\",\"Operations\",\"Supply Chain\",\"Software Engineer\",\"Robotics\"],\n",
    "    'age':list(np.random.randint(20,40,10)),\n",
    "    'salary':list(np.random.randint(100000,500000,10)),\n",
    "    'address':[\"Gurgaon\",\"Laxmi Nagar\",\"Vasundhra\",\"Ghaziabad\",\"Mayur-Vihar\",\"Sarojini Nagar\",\"Kaushambi\",\"Anand Vihar\",\"Preet Vihar\",\"Karkarduma\"]\n",
    "})\n",
    "\n",
    "df_3 = pd.DataFrame({\n",
    "    'id':[21,22,23,24,25,26,27,28,29,30],\n",
    "    'name':[\"Abhilash\",\"Bobby\",\"Chaman\",\"Diwakar\",\"Gurkanwal\",\"Hamina\",\"Kamal\",\"Manas\",\"Prateek\",\"Sandy\"],\n",
    "    'designation':[\"Electrician\",\"DG Operator\",\"DJ\",\"Musician\",\"Dancer\",\"Singer\",\"Custom Officer\",\"Actor\",\"Writer\",\"Loader\"],\n",
    "    'age':list(np.random.randint(20,35,10)),\n",
    "    'salary':list(np.random.randint(100000,200000,10)),\n",
    "    'address':[\"Jalandhar\",\"Phagwara\",\"\",\"Nawashahar\",\"Ludhiana\",\"Hoshiarpur\",\"Amritsar\",\"Chandigarh\",\"Ropar\",\"Karnal\"]\n",
    "})\n",
    "\n",
    "dfs = {'Emp1':df_1, 'Emp2':df_2, 'Emp3':df_3}"
   ]
  },
  {
   "cell_type": "code",
   "execution_count": null,
   "metadata": {},
   "outputs": [],
   "source": [
    "writer = pd.ExcelWriter(\"Dataset/Emp4.xlsx\",engine=\"xlsxwriter\")\n",
    "\n",
    "for keys in dfs.keys():\n",
    "    dfs[keys].to_excel(writer, sheet_name=keys, index=False)\n",
    "\n",
    "writer.save()"
   ]
  },
  {
   "cell_type": "markdown",
   "metadata": {},
   "source": [
    "**A single excel file with 3 different sheets have been created. Now, import all the data from 3 sheets and convert it into a single csv file**"
   ]
  },
  {
   "cell_type": "markdown",
   "metadata": {},
   "source": [
    "**First way:** Getting the data of 3 sheets in 3 different files"
   ]
  },
  {
   "cell_type": "code",
   "execution_count": null,
   "metadata": {},
   "outputs": [],
   "source": [
    "s1 = pd.read_excel(\"Dataset/Emp4.xlsx\",sheet_name=0)\n",
    "s2 = pd.read_excel(\"Dataset/Emp4.xlsx\",sheet_name=1)\n",
    "s3 = pd.read_excel(\"Dataset/Emp4.xlsx\",sheet_name=2)"
   ]
  },
  {
   "cell_type": "code",
   "execution_count": null,
   "metadata": {},
   "outputs": [],
   "source": [
    "s1.head(2)"
   ]
  },
  {
   "cell_type": "code",
   "execution_count": null,
   "metadata": {},
   "outputs": [],
   "source": [
    "s2.head(2)"
   ]
  },
  {
   "cell_type": "code",
   "execution_count": null,
   "metadata": {},
   "outputs": [],
   "source": [
    "s3.head(2)"
   ]
  },
  {
   "cell_type": "code",
   "execution_count": null,
   "metadata": {},
   "outputs": [],
   "source": [
    "files = pd.concat([s1,s2,s3], ignore_index=True)\n",
    "files[0:30:10]"
   ]
  },
  {
   "cell_type": "code",
   "execution_count": null,
   "metadata": {},
   "outputs": [],
   "source": [
    "files.to_csv(\"Dataset/Employees.csv\", index=False)"
   ]
  },
  {
   "cell_type": "code",
   "execution_count": null,
   "metadata": {},
   "outputs": [],
   "source": [
    "csv_files = pd.read_csv(\"Dataset/Employees.csv\")"
   ]
  },
  {
   "cell_type": "code",
   "execution_count": null,
   "metadata": {},
   "outputs": [],
   "source": [
    "csv_files"
   ]
  },
  {
   "cell_type": "code",
   "execution_count": null,
   "metadata": {},
   "outputs": [],
   "source": [
    "csv_files.info()"
   ]
  },
  {
   "cell_type": "code",
   "execution_count": null,
   "metadata": {},
   "outputs": [],
   "source": [
    "csv_files.isna().sum()"
   ]
  },
  {
   "cell_type": "markdown",
   "metadata": {},
   "source": [
    "**Second way:** Getting the data of 3 sheets in a single file\n"
   ]
  },
  {
   "cell_type": "code",
   "execution_count": null,
   "metadata": {},
   "outputs": [],
   "source": [
    "s4 = pd.read_excel(\"Dataset/Emp4.xlsx\",sheet_name=[0,1,2])"
   ]
  },
  {
   "cell_type": "code",
   "execution_count": null,
   "metadata": {},
   "outputs": [],
   "source": [
    "df = pd.concat((s4[keys] for keys in s4.keys()),ignore_index=True)\n",
    "df[0:30:10]"
   ]
  },
  {
   "cell_type": "code",
   "execution_count": null,
   "metadata": {},
   "outputs": [],
   "source": [
    "df.to_csv(\"Dataset/Employees-comb.csv\",index=False)"
   ]
  },
  {
   "cell_type": "code",
   "execution_count": null,
   "metadata": {},
   "outputs": [],
   "source": [
    "csv_ec = pd.read_csv(\"Dataset/Employees-comb.csv\")"
   ]
  },
  {
   "cell_type": "code",
   "execution_count": null,
   "metadata": {},
   "outputs": [],
   "source": [
    "csv_ec"
   ]
  },
  {
   "cell_type": "code",
   "execution_count": null,
   "metadata": {},
   "outputs": [],
   "source": [
    "csv_ec.info()"
   ]
  },
  {
   "cell_type": "code",
   "execution_count": null,
   "metadata": {},
   "outputs": [],
   "source": [
    "csv_ec.isna().sum()"
   ]
  }
 ],
 "metadata": {
  "kernelspec": {
   "display_name": "Python 3",
   "language": "python",
   "name": "python3"
  },
  "language_info": {
   "codemirror_mode": {
    "name": "ipython",
    "version": 3
   },
   "file_extension": ".py",
   "mimetype": "text/x-python",
   "name": "python",
   "nbconvert_exporter": "python",
   "pygments_lexer": "ipython3",
   "version": "3.8.3"
  }
 },
 "nbformat": 4,
 "nbformat_minor": 4
}
